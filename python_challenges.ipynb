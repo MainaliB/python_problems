{
 "cells": [
  {
   "cell_type": "code",
   "execution_count": 6,
   "metadata": {},
   "outputs": [],
   "source": [
    "# Create a function that receives a non negative integer and returns the factorial of that number. Avoid using\n",
    "# built-in functions to solve this challenge\n",
    "\n",
    "def int_factorial(n):\n",
    "    product = 1\n",
    "    for i in range(1, n+1):\n",
    "        product = product * i\n",
    "    return product\n"
   ]
  },
  {
   "cell_type": "code",
   "execution_count": 10,
   "metadata": {},
   "outputs": [
    {
     "data": {
      "text/plain": [
       "4"
      ]
     },
     "execution_count": 10,
     "metadata": {},
     "output_type": "execute_result"
    }
   ],
   "source": [
    "# Python got drunk and the built_in function str() and int() are acting odd: str(4) ➞ 4 str(\"4\") ➞ 4 int(\"4\") ➞ \"4\"\n",
    "# int(4) ➞ \"4\".You need to create two functions to substitute str() and int(). A function called int_to_str() that converts integers into strings and a function called str_to_int() \n",
    "#that converts strings into integers.\n",
    "\n",
    "def int_to_str(num):\n",
    "    if type(num) == int:\n",
    "        return str(num)\n",
    "    else: \n",
    "        return num\n",
    "def str_to_int(elem):\n",
    "    if type(elem) == str:\n",
    "        return int(elem)\n",
    "    else:\n",
    "        return elem\n",
    "str_to_int(\"4\")"
   ]
  },
  {
   "cell_type": "code",
   "execution_count": 14,
   "metadata": {},
   "outputs": [
    {
     "data": {
      "text/plain": [
       "98"
      ]
     },
     "execution_count": 14,
     "metadata": {},
     "output_type": "execute_result"
    }
   ],
   "source": [
    "# Imagine a circle and two squares: a smaller and a bigger one. For the smaller one, the circle is a \n",
    "#circumcircle and for the bigger one, an incircle.Create a function, that takes an integer (radius of the circle) \n",
    "#and returns the difference of the areas of the two squares.\n",
    "\n",
    "def diff_of_two_squares(r):\n",
    "    area_of_big_square = 4*(r**2)\n",
    "    area_of_small_square = 2*(r**2)\n",
    "    area_difference = area_of_big_square - area_of_small_square\n",
    "    return area_difference\n",
    "\n",
    "diff_of_two_squares(7)\n"
   ]
  },
  {
   "cell_type": "code",
   "execution_count": 26,
   "metadata": {},
   "outputs": [
    {
     "data": {
      "text/plain": [
       "'Buzz'"
      ]
     },
     "execution_count": 26,
     "metadata": {},
     "output_type": "execute_result"
    }
   ],
   "source": [
    "# Create a function that takes a number as an argument and returns \"Fizz\", \"Buzz\" or \"FizzBuzz\".\n",
    "#If the number is a multiple of 3 the output should be \"Fizz\".\n",
    "#If the number given is a multiple of 5, the output should be \"Buzz\".\n",
    "#If the number given is a multiple of both 3 and 5, the output should be \"FizzBuzz\".\n",
    "#If the number is not a multiple of either 3 or 5, the number should be output on its own as shown in the examples below.\n",
    "#The output should always be a string even if it is not a multiple of 3 or 5.\n",
    "\n",
    "def fizz_buzz(num):\n",
    "    if((num % 5 == 0) and (num % 3 == 0)):\n",
    "        return \"FizzBuzz\"\n",
    "    elif num % 5 == 0:\n",
    "        return \"Buzz\"\n",
    "    elif  num%3 == 0:\n",
    "        return \"Fizz\"\n",
    "    else:\n",
    "        return str(num)\n",
    "fizz_buzz(10)\n",
    "    "
   ]
  },
  {
   "cell_type": "code",
   "execution_count": 87,
   "metadata": {},
   "outputs": [
    {
     "data": {
      "text/plain": [
       "'ego'"
      ]
     },
     "execution_count": 87,
     "metadata": {},
     "output_type": "execute_result"
    }
   ],
   "source": [
    "# Create a function that builds a word from the scrambled letters contained in the first list. \n",
    "#Use the second list to establish each position of the letters in the first list. \n",
    "#Return a string from the unscrambled letters (that made-up the word).\n",
    "\n",
    "def word_builder(lst1, lst2):\n",
    "    word = \"\"\n",
    "    for num in lst2:\n",
    "        word = word + lst1[num]\n",
    "    return word\n",
    "word_builder([\"g\", \"e\", \"o\"], [1, 0, 2])\n"
   ]
  },
  {
   "cell_type": "code",
   "execution_count": 37,
   "metadata": {},
   "outputs": [
    {
     "data": {
      "text/plain": [
       "'Complex soln'"
      ]
     },
     "execution_count": 37,
     "metadata": {},
     "output_type": "execute_result"
    }
   ],
   "source": [
    "# A quadratic equation ax² + bx + c = 0 has either 0, 1, or 2 distinct solutions for real values of x. \n",
    "#Given a, b and c, you should return the number of solutions to the equation.\n",
    "\n",
    "def solutions(a,b,c):\n",
    "    if (b**2 - 4*a*c) > 0:\n",
    "        soln = 2\n",
    "    elif (b**2 - 4*a*c) == 0:\n",
    "        soln = 1\n",
    "    else:\n",
    "        soln = \"Complex soln\"\n",
    "    return soln\n",
    "solutions(1, 0, -1)\n",
    "solutions(1, 0, 1)\n"
   ]
  },
  {
   "cell_type": "code",
   "execution_count": 67,
   "metadata": {},
   "outputs": [],
   "source": [
    "# Create a class that takes the following four arguements for a particular football player:\n",
    "   # name\n",
    "    # age\n",
    "   # height\n",
    "   # weight\n",
    "# Also, create three functions for the class that returns the following strings:\n",
    "\n",
    "#get_age() returns \"name is age age\"\n",
    "#get_height() returns \"name is heightcm\"\n",
    "#get_weight() returns \"name weighs weightkg\"\n",
    "\n",
    "class player:\n",
    "    def __init__(self, name, age, height, weight):\n",
    "            self.name = str(name)\n",
    "            self.age = int(age)\n",
    "            self.height = int(height)\n",
    "            self.weight = int(weight)\n",
    "    def get_age(abc):\n",
    "        print(abc.name, \" is age \", abc.age)\n",
    "    def get_height(abc):\n",
    "        print(abc.name, \" is \",abc.height,\"cm\")\n",
    "    def get_weight(abc):\n",
    "        print(abc.name, \" weighs \", abc.weight, \"kg\")\n"
   ]
  },
  {
   "cell_type": "code",
   "execution_count": 75,
   "metadata": {},
   "outputs": [
    {
     "data": {
      "text/plain": [
       "440"
      ]
     },
     "execution_count": 75,
     "metadata": {},
     "output_type": "execute_result"
    }
   ],
   "source": [
    "#You work for a manufacturer, and have been asked to calculate the total profit made on the sales of a product. \n",
    "#You are given a dictionary containing the cost price per unit (in dollars), sell price per unit (in dollars),\n",
    "#and the starting inventory.\n",
    "# Return the total profit made, rounded to the nearest dollar.\n",
    "\n",
    "def profit(record):\n",
    "    total_cost_price = record[\"cost_price\"] * record[\"inventory\"]\n",
    "    total_sale_price = record[\"sell_price\"] * record[\"inventory\"]\n",
    "    total_profit = total_sale_price - total_cost_price\n",
    "    return int(total_profit)\n",
    "profit({\n",
    "  \"cost_price\": 2.77,\n",
    "  \"sell_price\": 7.95,\n",
    "  \"inventory\": 85\n",
    "})"
   ]
  },
  {
   "cell_type": "code",
   "execution_count": 86,
   "metadata": {},
   "outputs": [
    {
     "data": {
      "text/plain": [
       "'20191211'"
      ]
     },
     "execution_count": 86,
     "metadata": {},
     "output_type": "execute_result"
    }
   ],
   "source": [
    "#Create a function that converts a date formatted as MM/DD/YYYY to YYYYDDMM.\n",
    "def format_date(date_as_string):\n",
    "    new_date = date_as_string.replace(\"/\", \"\")\n",
    "    new_changed_date = new_date[4:] + new_date[2:4]+ new_date[0:2]\n",
    "    return new_changed_date\n",
    "format_date(\"11/12/2019\")"
   ]
  },
  {
   "cell_type": "code",
   "execution_count": 91,
   "metadata": {},
   "outputs": [
    {
     "data": {
      "text/plain": [
       "[12, 24, 36, 48, 60, 72, 84, 96, 108, 120]"
      ]
     },
     "execution_count": 91,
     "metadata": {},
     "output_type": "execute_result"
    }
   ],
   "source": [
    "#Create a function that takes two numbers as arguments (num, length) \n",
    "# and returns a list of multiples of num up to length.\n",
    "def list_of_multiples(num1, num2):\n",
    "    new_list = []\n",
    "    for i in range(1, num2 + 1):\n",
    "        product = num1 * i\n",
    "        new_list.append(product)\n",
    "        i += 1\n",
    "    return new_list\n",
    "\n",
    "list_of_multiples(12, 10)\n"
   ]
  },
  {
   "cell_type": "code",
   "execution_count": null,
   "metadata": {},
   "outputs": [],
   "source": []
  }
 ],
 "metadata": {
  "kernelspec": {
   "display_name": "Python 3",
   "language": "python",
   "name": "python3"
  },
  "language_info": {
   "codemirror_mode": {
    "name": "ipython",
    "version": 3
   },
   "file_extension": ".py",
   "mimetype": "text/x-python",
   "name": "python",
   "nbconvert_exporter": "python",
   "pygments_lexer": "ipython3",
   "version": "3.7.6"
  }
 },
 "nbformat": 4,
 "nbformat_minor": 4
}
